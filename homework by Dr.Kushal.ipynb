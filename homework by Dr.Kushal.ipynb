{
 "cells": [
  {
   "cell_type": "markdown",
   "metadata": {},
   "source": [
    "1.Given two numbers a and b,find a/b (b could be zero)."
   ]
  },
  {
   "cell_type": "code",
   "execution_count": 2,
   "metadata": {},
   "outputs": [
    {
     "name": "stdout",
     "output_type": "stream",
     "text": [
      "17.4\n"
     ]
    }
   ],
   "source": [
    "a= float(input(\"enter a number:\"))\n",
    "b= float(input(\"enter another number:\"))\n",
    "if b>0 or b<0:\n",
    "    c=a/b\n",
    "    print(c)\n",
    "elif b==0:\n",
    "    print(\"answer is undefined\")"
   ]
  },
  {
   "cell_type": "markdown",
   "metadata": {},
   "source": [
    "2.Given a point in 2D space,find the quadrant in which it lies"
   ]
  },
  {
   "cell_type": "code",
   "execution_count": 7,
   "metadata": {},
   "outputs": [
    {
     "name": "stdout",
     "output_type": "stream",
     "text": [
      "abcissa is: 0.0\n",
      "ordinate is: 0.0\n",
      "point is at origin\n"
     ]
    }
   ],
   "source": [
    "x= float(input(\"enter abcissa:\")) #taking the cordinates as input from the user\n",
    "print(\"abcissa is:\",x)\n",
    "y= float(input(\"enter ordinate\"))\n",
    "print(\"ordinate is:\",y)\n",
    "# mathematical logic for quadrant descision\n",
    "if x>0 and y>0:\n",
    "        print(\"point is in first quadrant\")\n",
    "\n",
    "elif x<0 and y>0:\n",
    "        print(\"point is in second quadrant\")\n",
    "\n",
    "elif x<0 and y<0:\n",
    "        print(\"point is in third quadrant\")\n",
    "\n",
    "elif x>0 and y<0:\n",
    "        print(\"point is in fourth quadrant\")\n",
    "#special cases for 0 based problems    \n",
    "elif x==0 and y==0:\n",
    "                print(\"point is at origin\")\n",
    "elif x==0 and y!=0:\n",
    "                print(\"it is on the y-axis\")\n",
    "elif x!=0 and y==0:\n",
    "                print(\"it is on the x-axis\")\n",
    "                \n",
    "\n",
    "\n",
    "                \n",
    "      \n",
    "                "
   ]
  },
  {
   "cell_type": "markdown",
   "metadata": {},
   "source": [
    "3.Given two points in 2D space, find the slope and y-intercept of the line joining them.Consider all cases"
   ]
  },
  {
   "cell_type": "code",
   "execution_count": 32,
   "metadata": {},
   "outputs": [
    {
     "name": "stdout",
     "output_type": "stream",
     "text": [
      "first abcissa is : 7\n",
      "first ordinate is : 6\n",
      "second abcissa is : 7\n",
      "second ordinate is : 9\n",
      "slope is makeing 90degrees with the x-axis or it is y-axis\n",
      "y intercept is: 0.7142857142857143\n"
     ]
    }
   ],
   "source": [
    "#point1\n",
    "x1= float(input(\"enter abcissa for first point\")) \n",
    "print(\"first abcissa is :\",x1)\n",
    "y1= float(input (\"enter ordinate for first point\"))\n",
    "print(\"first ordinate is :\",y1)\n",
    "#point2\n",
    "x2= float(input(\"enter abcissa for second point\"))\n",
    "print(\"second abcissa is :\",x2)\n",
    "y2= float(input (\"enter ordinate for second point\"))\n",
    "print(\"second ordinate is :\",y2)\n",
    "#slope is (y2-y1)/(x2-x1)\n",
    "if (x2-x1)>0 or (x2-x1)<0:\n",
    "                z=(y2-y1)/(x2-x1)\n",
    "                print(\"slope is:\",z)\n",
    "\n",
    "elif (x2-x1)==0:\n",
    "        print(\"slope is makeing 90degrees with the x-axis or it is y-axis\")\n",
    "y=z*x1+c\n",
    "print(\"y intercept is:\",c)\n"
   ]
  },
  {
   "cell_type": "markdown",
   "metadata": {},
   "source": [
    "4.Given a temperature in Farenheit, convert it to Celcius.If the temperature is below 10 degree celcius output 'cold',between 10 and 25 output 'pleasent',between 25 and 35 output 'warm' and above 35 output 'hot'."
   ]
  },
  {
   "cell_type": "code",
   "execution_count": 16,
   "metadata": {},
   "outputs": [
    {
     "name": "stdout",
     "output_type": "stream",
     "text": [
      "temperature in farenheit is: 67\n",
      "temperature in celcius is: 19.6\n",
      "it is pleasant\n"
     ]
    }
   ],
   "source": [
    "f= float(input(\"enter temperature in farenheit\"))#taking temperature as a input from the user\n",
    "print(\"temperature in farenheit is:\",f)\n",
    "#formula for conversion of farenheit into celcius is C=(f-32)* (0.56)\n",
    "C=(f-32)* (0.56)\n",
    "print(\"temperature in celcius is:\",C)\n",
    "# statements as per question \n",
    "if C<10:\n",
    "        print(\"it is cold\")\n",
    "elif C>10 and  C<25:\n",
    "        print(\"it is pleasant\")\n",
    "elif C>25 and C<35:\n",
    "                print(\"it is warm\")\n",
    "elif C>35:\n",
    "                print(\"it is hot\")\n",
    "        \n",
    "        "
   ]
  },
  {
   "cell_type": "markdown",
   "metadata": {},
   "source": [
    "5. Given a quadratic equation with coefficients a,b and c,find the two solutions (may be real or complex).You should not take the square root of a negative number in your code."
   ]
  },
  {
   "cell_type": "code",
   "execution_count": 8,
   "metadata": {},
   "outputs": [
    {
     "name": "stdout",
     "output_type": "stream",
     "text": [
      "a is : 0\n",
      "b is : 2\n",
      "c is : 4\n",
      "solution is: -2.0\n"
     ]
    }
   ],
   "source": [
    "#point 1\n",
    "a=int(input(\"enter a number\"))\n",
    "print(\"a is :\",a)\n",
    "#point 2    \n",
    "b=int(input(\"enter a number\"))\n",
    "print(\"b is :\",b)\n",
    "#point 3       \n",
    "c=int(input(\"enter a number\"))\n",
    "print(\"c is :\",c)\n",
    "#qudratic formula for general expression (y=a*x**2 + b*x + c)  is (-b + (b**2 - 4*a*c)**0.5)/(2*a)\n",
    "y=a*x**2 + b*x + c\n",
    "m= b**2 - 4*a*c\n",
    "if m>=0 and (a>0 or a<0):\n",
    "        root1= (-b + (m)**0.5)/(2*a)\n",
    "        print(\"first solution is \",root1)\n",
    "        root2= (-b - (m)**0.5)/(2*a)\n",
    "        print(\"second solution is:\",root2)\n",
    "elif m<0:\n",
    "        print(\"roots are imagenery\")\n",
    "if a==0:\n",
    "                print(\"solution is:\",-c/b)"
   ]
  },
  {
   "cell_type": "markdown",
   "metadata": {},
   "source": [
    "6.Given three points,find out whether they lie on the same straight line or not."
   ]
  },
  {
   "cell_type": "code",
   "execution_count": 1,
   "metadata": {},
   "outputs": [
    {
     "name": "stdout",
     "output_type": "stream",
     "text": [
      "x1= 4\n",
      "y1= 3\n",
      "x2= 4\n",
      "y2= 6\n",
      "x3= 4\n",
      "y3= 8\n",
      "it is a straight line\n"
     ]
    }
   ],
   "source": [
    "#point1\n",
    "x1= int(input(\"enter x value\"))\n",
    "print(\"x1=\",x1)\n",
    "y1= int(input(\"enter y value \"))\n",
    "print(\"y1=\",y1)\n",
    "#point2\n",
    "x2= int(input(\"enter x value\"))\n",
    "print(\"x2=\",x2)\n",
    "y2= int(input(\"enter y value \"))\n",
    "print(\"y2=\",y2)\n",
    "#point3\n",
    "x3= int(input(\"enter x value\"))\n",
    "print(\"x3=\",x3)\n",
    "y3= int(input(\"enter y value \"))\n",
    "print(\"y3=\",y3)\n",
    "#mathematical logic for straight line\n",
    "if (x3-x1)==0 and (x2-x1)==0:\n",
    "                print(\"it is a straight line\")\n",
    "\n",
    "elif (x3-x1)!=0 and (x2-x1)==0:\n",
    "                print(\"not a straight line\")\n",
    "\n",
    "elif (x3-x1)==0 and (x2-x1)!=0:\n",
    "                print(\"not a straight line\")\n",
    "\n",
    "if (x2-x1)>0 or (x2-x1)<0:\n",
    "                s1=(y2-y1)/(x2-x1)\n",
    "                print(\"slope is :\",s1)\n",
    "\n",
    "if (x3-x1)>0 or (x3-x1)<0:\n",
    "                s2=(y3-y1)/(x3-x1)\n",
    "                print(\"slope is :\",s2)\n",
    "                if s1==s2:\n",
    "                        print(\"it is straight line\")\n",
    "                else:\n",
    "                        print(\"it is not straight line\")\n",
    "\n"
   ]
  }
 ],
 "metadata": {
  "kernelspec": {
   "display_name": "Python 3",
   "language": "python",
   "name": "python3"
  },
  "language_info": {
   "codemirror_mode": {
    "name": "ipython",
    "version": 3
   },
   "file_extension": ".py",
   "mimetype": "text/x-python",
   "name": "python",
   "nbconvert_exporter": "python",
   "pygments_lexer": "ipython3",
   "version": "3.11.4"
  },
  "orig_nbformat": 4
 },
 "nbformat": 4,
 "nbformat_minor": 2
}

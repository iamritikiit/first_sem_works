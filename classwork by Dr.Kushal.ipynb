{
 "cells": [
  {
   "cell_type": "markdown",
   "metadata": {},
   "source": [
    "Using robinson formula write a program to find the approriate weight of a person "
   ]
  },
  {
   "cell_type": "code",
   "execution_count": null,
   "metadata": {},
   "outputs": [],
   "source": [
    "\n",
    "a=int(input(\"enter 0 for female & 1 for male\"))#asking for gender\n",
    "b=float(input(\"enter height in inches\"))#asking for height in inches\n",
    "c=b-60\n",
    "if a==0:\n",
    "        if c>0:\n",
    "                w= 49+ 1.6*(c)#robinson formula for female\n",
    "                print(\"the approriate weight is:\",w)\n",
    "        else:\n",
    "                print(\"the approriate weight is 42kg\")\n",
    "\n",
    "if a==1:\n",
    "        if c>0:\n",
    "                w= 52+ 1.9*(c)#robinson formula for male\n",
    "                print(\"the approriate weight is:\",w)\n",
    "        else:\n",
    "                print(\"the approriate weight is 52kg\")\n",
    "\n"
   ]
  },
  {
   "cell_type": "markdown",
   "metadata": {},
   "source": [
    "Among three numbers a,b and c find the greatest number using 'and'"
   ]
  },
  {
   "cell_type": "code",
   "execution_count": 1,
   "metadata": {},
   "outputs": [
    {
     "name": "stdout",
     "output_type": "stream",
     "text": [
      "first number is: 2\n",
      "second number is: 4\n",
      "third number is: 6\n",
      "c is greatest\n"
     ]
    }
   ],
   "source": [
    "\n",
    "a= int(input(\"enter first number\"))#taking input from the user\n",
    "print(\"first number is:\",a)\n",
    "b= int(input(\"enter second number\"))\n",
    "print(\"second number is:\",b)\n",
    "c= int(input(\"enter third number\"))\n",
    "print(\"third number is:\",c)\n",
    "#mathematical logic for the aforesaid problem\n",
    "if a>b and a>c:\n",
    "    print(\"a is greatest\")\n",
    "elif a==b and a>c:\n",
    "    print(\"a and b is greatest\")\n",
    "if b>a and b>c:\n",
    "    print(\"b is greatest\")\n",
    "elif b==c and b>a:\n",
    "    print(\"b and c is greatest\")\n",
    "if c>b and c>a:\n",
    "    print(\"c is greatest\")\n",
    "elif c==a and c>b:\n",
    "    print(\"c is greatest\")\n",
    "if a==b==c:\n",
    "    print(\"all are same\")\n"
   ]
  },
  {
   "cell_type": "markdown",
   "metadata": {},
   "source": [
    "Among three numbers a,b and c find the greatest number without using 'and'"
   ]
  },
  {
   "cell_type": "code",
   "execution_count": 3,
   "metadata": {},
   "outputs": [
    {
     "name": "stdout",
     "output_type": "stream",
     "text": [
      "first number is: 3\n",
      "second number is: 6\n",
      "third number is: -8\n",
      "b is greatest\n"
     ]
    }
   ],
   "source": [
    "\n",
    "a= int(input(\"enter first number\"))#taking input from user\n",
    "print(\"first number is:\",a)\n",
    "b= int(input(\"enter second number\"))\n",
    "print(\"second number is:\",b)\n",
    "c= int(input(\"enter third number\"))\n",
    "print(\"third number is:\",c)\n",
    "#mathematical logic for the aforesaid problem\n",
    "if a>b:\n",
    "        if a>c:\n",
    "                print(\"a is greatest\")\n",
    "elif a==b:\n",
    "        if a>c:\n",
    "                print(\"a and b is greatest\")\n",
    "if b>a:\n",
    "        if b>c:\n",
    "                print(\"b is greatest\")\n",
    "elif b==a:\n",
    "        if b>c:\n",
    "                print(\"a and b is greatest\")\n",
    "if c>a:\n",
    "        if c>b:\n",
    "                print(\"c is greatest\")\n",
    "elif c==a:\n",
    "        if c>b:\n",
    "                print(\"c and a is greatest\")\n",
    "if a==b==c:\n",
    "        print(\"all three are same\")\n",
    "\n"
   ]
  }
 ],
 "metadata": {
  "kernelspec": {
   "display_name": "Python 3",
   "language": "python",
   "name": "python3"
  },
  "language_info": {
   "codemirror_mode": {
    "name": "ipython",
    "version": 3
   },
   "file_extension": ".py",
   "mimetype": "text/x-python",
   "name": "python",
   "nbconvert_exporter": "python",
   "pygments_lexer": "ipython3",
   "version": "3.11.4"
  },
  "orig_nbformat": 4
 },
 "nbformat": 4,
 "nbformat_minor": 2
}
